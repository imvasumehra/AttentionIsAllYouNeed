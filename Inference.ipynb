{
 "cells": [
  {
   "cell_type": "code",
   "execution_count": 2,
   "metadata": {},
   "outputs": [
    {
     "name": "stderr",
     "output_type": "stream",
     "text": [
      "2023-09-06 14:30:15.329717: I tensorflow/core/platform/cpu_feature_guard.cc:182] This TensorFlow binary is optimized to use available CPU instructions in performance-critical operations.\n",
      "To enable the following instructions: AVX2 FMA, in other operations, rebuild TensorFlow with the appropriate compiler flags.\n",
      "2023-09-06 14:30:16.764863: W tensorflow/compiler/tf2tensorrt/utils/py_utils.cc:38] TF-TRT Warning: Could not find TensorRT\n"
     ]
    }
   ],
   "source": [
    "from pathlib import Path\n",
    "import torch\n",
    "import torch.nn as nn\n",
    "from config import get_config, get_weights_file_path\n",
    "from train import get_model, get_ds, run_validation\n",
    "import warnings\n",
    "\n",
    "warnings.filterwarnings(\"ignore\")"
   ]
  },
  {
   "cell_type": "code",
   "execution_count": 3,
   "metadata": {},
   "outputs": [
    {
     "name": "stdout",
     "output_type": "stream",
     "text": [
      "Using device: cuda\n"
     ]
    },
    {
     "name": "stderr",
     "output_type": "stream",
     "text": [
      "Repo card metadata block was not found. Setting CardData to empty.\n"
     ]
    },
    {
     "name": "stdout",
     "output_type": "stream",
     "text": [
      "Dataset({\n",
      "    features: ['translation'],\n",
      "    num_rows: 40000\n",
      "})\n",
      "<class 'datasets.arrow_dataset.Dataset'>\n",
      "Max length of source sentence: 124\n",
      "Max length of target sentence: 122\n"
     ]
    },
    {
     "data": {
      "text/plain": [
       "<All keys matched successfully>"
      ]
     },
     "execution_count": 3,
     "metadata": {},
     "output_type": "execute_result"
    }
   ],
   "source": [
    "# Define the device\n",
    "device = torch.device(\"cuda\" if torch.cuda.is_available() else \"cpu\")\n",
    "print(\"Using device:\", device)\n",
    "config = get_config()\n",
    "train_dataloader, val_dataloader, tokenizer_src, tokenizer_tgt = get_ds(config)\n",
    "model = get_model(config, tokenizer_src.get_vocab_size(), tokenizer_tgt.get_vocab_size()).to(device)\n",
    "\n",
    "# Load the pretrained weights\n",
    "model_filename = get_weights_file_path(config, f\"19\")\n",
    "state = torch.load(model_filename)\n",
    "model.load_state_dict(state['model_state_dict'])"
   ]
  },
  {
   "cell_type": "code",
   "execution_count": 4,
   "metadata": {},
   "outputs": [
    {
     "name": "stderr",
     "output_type": "stream",
     "text": [
      "stty: 'standard input': Inappropriate ioctl for device\n"
     ]
    },
    {
     "name": "stdout",
     "output_type": "stream",
     "text": [
      "--------------------------------------------------------------------------------\n",
      "    SOURCE: All\n",
      "    TARGET: सभी को संग्रहित करें\n",
      " PREDICTED: सभी\n",
      "[['सभी', 'को', 'संग्रहित', 'करें']] ['सभी']\n",
      "--------------------------------------------------------------------------------\n",
      "    SOURCE: Go to previous history\n",
      "    TARGET: जाएँ को\n",
      " PREDICTED: जाएँ को\n",
      "[['जाएँ', 'को']] ['जाएँ', 'को']\n",
      "--------------------------------------------------------------------------------\n",
      "    SOURCE: Children\n",
      "    TARGET: शिशु\n",
      " PREDICTED: शिशु\n",
      "[['शिशु']] ['शिशु']\n",
      "--------------------------------------------------------------------------------\n",
      "    SOURCE: _ Merge…\n",
      "    TARGET: मिलाएं\n",
      " PREDICTED: मिलाएं\n",
      "[['मिलाएं']] ['मिलाएं']\n",
      "--------------------------------------------------------------------------------\n",
      "    SOURCE: Select Package to add:\n",
      "    TARGET: चुनें पैकेज को जोड़ेंः\n",
      " PREDICTED: चुनें पैकेज को जोड़ेंः\n",
      "[['चुनें', 'पैकेज', 'को', 'जोड़ेंः']] ['चुनें', 'पैकेज', 'को', 'जोड़ेंः']\n",
      "--------------------------------------------------------------------------------\n",
      "    SOURCE: The file \"% s\" cannot be moved to the trash. Details:% s\n",
      "    TARGET: यह फ़ाइल \"% s\" रद्दी में नहीं भेजी जा सकती है. विवरणः% s\n",
      " PREDICTED: यह फ़ाइल \"% s \" रद्दी में नहीं भेजी जा सकती है . विवरणः % s\n",
      "[['यह', 'फ़ाइल', '\"%', 's\"', 'रद्दी', 'में', 'नहीं', 'भेजी', 'जा', 'सकती', 'है.', 'विवरणः%', 's']] ['यह', 'फ़ाइल', '\"%', 's', '\"', 'रद्दी', 'में', 'नहीं', 'भेजी', 'जा', 'सकती', 'है', '.', 'विवरणः', '%', 's']\n",
      "--------------------------------------------------------------------------------\n",
      "    SOURCE: Tool operations\n",
      "    TARGET: टूल औजार\n",
      " PREDICTED: टूल औजार\n",
      "[['टूल', 'औजार']] ['टूल', 'औजार']\n",
      "--------------------------------------------------------------------------------\n",
      "    SOURCE: % s h% s\n",
      "    TARGET: % s h% s\n",
      " PREDICTED: % s h % s\n",
      "[['%', 's', 'h%', 's']] ['%', 's', 'h', '%', 's']\n",
      "--------------------------------------------------------------------------------\n",
      "    SOURCE: The file \"% s\" is read - only! Edit anyway?\n",
      "    TARGET: फ़ाइल से. है पढ़ें संपादन? \n",
      " PREDICTED: फ़ाइल से . है पढ़ें संपादन ?\n",
      "[['फ़ाइल', 'से.', 'है', 'पढ़ें', 'संपादन?', '']] ['फ़ाइल', 'से', '.', 'है', 'पढ़ें', 'संपादन', '?']\n",
      "--------------------------------------------------------------------------------\n",
      "    SOURCE: an empty slot\n",
      "    TARGET: एक खाली खाँचा\n",
      " PREDICTED: एक खाली खाँचा\n",
      "[['एक', 'खाली', 'खाँचा']] ['एक', 'खाली', 'खाँचा']\n",
      "--------------------------------------------------------------------------------\n",
      "    SOURCE: Whether to use \"- use - the - force - luke = dao\" flag with growisofs. Set to false, brasero won 't use it; it may be a workaround for some drives / setups.\n",
      "    TARGET: क्या \"-use-the-force-luke = dao\" फ्लैग को growisofs के साथ प्रयोग करना है. इसे गलत पर सेट करें, ब्रैसेरो इसे प्रयोग नहीं करेगा; यह कुछ ड्राइव/सेटअप के साथ समाधान के रूप में होता है. \n",
      " PREDICTED: क्या \"- use - the - force - luke = dao \" फ्लैग को growisofs के साथ प्रयोग करना है . इसे गलत पर सेट करें , ब्रैसेरो इसे प्रयोग नहीं करेगा ; यह कुछ ड्राइव / सेटअप के साथ समाधान के रूप में होता है .\n",
      "[['क्या', '\"-use-the-force-luke', '=', 'dao\"', 'फ्लैग', 'को', 'growisofs', 'के', 'साथ', 'प्रयोग', 'करना', 'है.', 'इसे', 'गलत', 'पर', 'सेट', 'करें,', 'ब्रैसेरो', 'इसे', 'प्रयोग', 'नहीं', 'करेगा;', 'यह', 'कुछ', 'ड्राइव/सेटअप', 'के', 'साथ', 'समाधान', 'के', 'रूप', 'में', 'होता', 'है.', '']] ['क्या', '\"-', 'use', '-', 'the', '-', 'force', '-', 'luke', '=', 'dao', '\"', 'फ्लैग', 'को', 'growisofs', 'के', 'साथ', 'प्रयोग', 'करना', 'है', '.', 'इसे', 'गलत', 'पर', 'सेट', 'करें', ',', 'ब्रैसेरो', 'इसे', 'प्रयोग', 'नहीं', 'करेगा', ';', 'यह', 'कुछ', 'ड्राइव', '/', 'सेटअप', 'के', 'साथ', 'समाधान', 'के', 'रूप', 'में', 'होता', 'है', '.']\n",
      "--------------------------------------------------------------------------------\n",
      "    SOURCE: [Head / Working Copy]\n",
      "    TARGET: [Head/Working Copy] \n",
      " PREDICTED: [ Head / Working Copy ]\n",
      "[['[Head/Working', 'Copy]', '']] ['[', 'Head', '/', 'Working', 'Copy', ']']\n",
      "--------------------------------------------------------------------------------\n",
      "    SOURCE: % s: \"% s\"\n",
      "    TARGET: % s: \"% s\" \n",
      " PREDICTED: % s : \"% s \"\n",
      "[['%', 's:', '\"%', 's\"', '']] ['%', 's', ':', '\"%', 's', '\"']\n",
      "--------------------------------------------------------------------------------\n",
      "    SOURCE: SHA1\n",
      "    TARGET: SHA1\n",
      " PREDICTED: SHA1\n",
      "[['SHA1']] ['SHA1']\n",
      "--------------------------------------------------------------------------------\n",
      "    SOURCE: File not found\n",
      "    TARGET: फ़ाइल नहीं मिली\n",
      " PREDICTED: फ़ाइल नहीं मिली\n",
      "[['फ़ाइल', 'नहीं', 'मिली']] ['फ़ाइल', 'नहीं', 'मिली']\n",
      "--------------------------------------------------------------------------------\n"
     ]
    }
   ],
   "source": [
    "run_validation(model, val_dataloader, tokenizer_src, tokenizer_tgt, config['seq_len'], device, lambda msg: print(msg), 0, None, num_examples=15)"
   ]
  },
  {
   "cell_type": "code",
   "execution_count": null,
   "metadata": {},
   "outputs": [],
   "source": []
  }
 ],
 "metadata": {
  "kernelspec": {
   "display_name": "Python 3 (ipykernel)",
   "language": "python",
   "name": "python3"
  },
  "language_info": {
   "codemirror_mode": {
    "name": "ipython",
    "version": 3
   },
   "file_extension": ".py",
   "mimetype": "text/x-python",
   "name": "python",
   "nbconvert_exporter": "python",
   "pygments_lexer": "ipython3",
   "version": "3.8.10"
  }
 },
 "nbformat": 4,
 "nbformat_minor": 4
}
